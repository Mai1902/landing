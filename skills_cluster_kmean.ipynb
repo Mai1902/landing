{
  "cells": [
    {
      "cell_type": "markdown",
      "metadata": {
        "colab_type": "text",
        "id": "view-in-github"
      },
      "source": [
        "<a href=\"https://colab.research.google.com/github/Mai1902/landing/blob/main/skills_cluster_kmean.ipynb\" target=\"_parent\"><img src=\"https://colab.research.google.com/assets/colab-badge.svg\" alt=\"Open In Colab\"/></a>"
      ]
    },
    {
      "cell_type": "code",
      "execution_count": null,
      "metadata": {
        "id": "QPvnSRsobVXL"
      },
      "outputs": [],
      "source": [
        "!pip install numpy\n",
        "!pip install pandas\n",
        "!pip install matplotlib\n",
        "!pip install seaborn\n",
        "!pip install nltk\n",
        "!pip install sklearn"
      ]
    },
    {
      "cell_type": "code",
      "execution_count": 2,
      "metadata": {
        "id": "KrujTxFZaRnD"
      },
      "outputs": [],
      "source": [
        "import numpy as np\n",
        "import pandas as pd\n",
        "import matplotlib.pyplot as plt\n",
        "import seaborn as sns\n",
        "import os\n",
        "import re\n",
        "import nltk\n",
        "from sklearn import feature_extraction\n",
        "from nltk.stem import PorterStemmer\n"
      ]
    },
    {
      "cell_type": "code",
      "execution_count": 45,
      "metadata": {
        "colab": {
          "base_uri": "https://localhost:8080/"
        },
        "id": "qvY8G9_DipPi",
        "outputId": "abb85c12-74c8-4a46-dde9-f97c9c12721b"
      },
      "outputs": [
        {
          "name": "stdout",
          "output_type": "stream",
          "text": [
            "['SEE BELOW', 'linux/unix network monitoring incident response systems administration security accessment', 'Enterprise Solutions Architecture business inteligence reports reporting', 'Please see job description', 'Configuration Management Developer Linux Management Process Engineering VMware', 'FICO AR AP Asset Management HAHA', 'Cisco DNS HTTP Networking Network Engineer Security Video VPN Wireless', '.NET  C# MVC RESTful web services HTTP AWS Azure OOP', 'C++ Developer Development JavaScript User Interface', '(See Job Description)', 'Openstack', 'Unix IAM Scripting knowledge OIM Windows Linux', 'Java OSS', 'Consulting Project Sales Sales Engineer', 'mobile device', '(See Job Description)', 'QA', 'Lawson Supply Chain', 'Desktop Hardware Network Software Systems Windows', '(See Job Description)', 'Analysis Analyst Application Business Analyst Business Requirements Excel IT PowerPoint Project', '(See Job Description)', 'System Testing Load/Performance Testing FIX.FAST C/C++ Java Windows Linux', 'Agile CASE Consulting Defect Management Manager Management Project Project Management', 'MATLAB LabVIEW', 'Do you want a chance to directly improve the customer experience for millions of customers a day? This position is a Product Manager in the Customer Experience team for Fulfillment by Amazon and Amazon Global Selling organization. Our vision is to transform global commerce by bringing selection from around the world to Customers anywhere in the world with the same great customer experience Buyers expect from Amazon. In this role you will set strategy and policy build processes and evangelize for technology solutions that allow third party Sellers from all over the world to bring hundreds of millions of new items to Amazon\\'s 11 Marketplaces worldwide. You will determine what experience these Sellers must offer our customers create the incentives and enforcement mechanisms to achieve this experience and frequently audit the results. Responsibilities for this position will include creation of programs that drive improvement in our key customer experience metrics management of global programs and stakeholders and driving alignment for new programs at high levels of the organization. This position will also have management responsibility for product managers data analysts and an operations team. From Jeff Bezos\\' annual letter to Amazon shareholders: \"To further globalize Marketplace we\\'re now helping sellers in each of our geographies - and in countries where we don\\'t have a presence - reach out to our customers in countries outside their home geographies. We hosted merchants from more than 100 different countries last year and helped them connect with customers in 185 nations. Almost one-fifth of our overall third-party sales now occur outside the sellers\\' home countries and our merchants\\' cross-border sales nearly doubled last year. In the EU sellers can open a single account manage their business in multiple languages and make products available across our five EU websites. More recently we\\'ve started consolidating cross-border shipments for sellers and helping them obtain ocean shipping from Asia to Europe and North America at preferential bulk rates.\" Fulfillment by Amazon (FBA) is an Amazon service for our third-party Sellers. The FBA team partners with Sellers and our Amazon Fulfillment Centers to create a seamless experience for Sellers to leverage our world-class facilities. 71% of our FBA Sellers report more than a 20% increase in unit sales after joining FBA. In a very real way we are changing lives with the work we do. Our FBA employees wake up every day thinking about how to enable our Sellers to be successful on our platform. Enabling Seller success allows us to provide Amazon customers with unparalleled selection and pricing. FBA is a win for Sellers and a win for customers. Want to learn more about FBA? ? Seller\\'s success stories: SellerSuccess ? A free book of stories from small businesses/sellers authors and innovators that are thriving on Amazon: Transformations-ebook', 'Angular.JS React Node.js JavaScript', 'selenium testing automation', '(INFORMATION SECURITY over 1 year(s) OR CYBER SECURITY over 1 year(s) OR SECURITY over 1 year(s) ) AND(FIREEYE OR FIRE EYE )', 'C and C++ Linux UNIX', \"Bachelor's degree with 5 years of experience developing software applications in C++ preferably in a Linux environment is required. Experience with .NET or Java preferred.\", 'Development IT Network Project Sales', 'Android Mobile', 'Scheduling Primavera 6.0 Unifier MS Project Stadard EIT Construction Pharma or Biotech', 'AI Maya Browzwear 3D', 'Java and Java EE JSF Spring Struts and Hibernate', 'Consulting Database Lifecycle Management Metrics PMP Project Sales SalesForce Scheduling Telecommunications', 'Need a strong core Java Developer with some good Data experience. Must have experience with distributed computing.', '.NET and C# SQl', 'Manual and Automation Mobile testing experience-Desktop applications Consumer Electronics Devices and Websites', 'Project Management Operations Analysis BANKING (Financial Services Wealth Management Regulated Environment Info Sec Security and Risk Management', 'Informatica AdminOracleSql', \"DESCRIPTION Do you want to help build a highly personalized homepage that greets each of our millions of customers worldwide every time they visit Amazon.com? Are you interested in building data pipelines that process petabytes of customer behavior data? Amazon's Homepage Personalization team develops and supports personalization and recommendations for Amazon customers across music books movies fashion and everything else that Amazon offers. We analyze petabytes of implicit and explicit feedback data on our hundreds of millions of customers and billions of products in order to guide the development of a meaningful and highly personalized homepage experience. We are looking for an experienced and forward thinking software engineer with a focus on data engineering to join our team. This person will work closely with other software engineers and machine learning scientists to design and implement predictive scalable models for everything from product recommendations to personalized mobile content layouts. You will work directly with machine learning scientists to scale up collaborative filtering models on retail purchases Prime Video views Prime Music streams and other Amazon data to deeply understand our customers. This is one of the foremost roles in data engineering with the opportunity to reach millions of customers on one of the highest traffic consumer websites in the world. If you are passionate about data engineering software engineering and personalization at scale then we encourage you to apply. BASIC QUALIFICATIONS - BS or MS degree in computer science or related field. - Strong coding experience preferably with Scala Python Java or C++. - Strong grasp of data structures and algorithms. - Ability to explain complex issues in technical and non-technical terms. - Cares deeply about agile software practices data driven development and collaborating with other engineers and researchers. - Working knowledge of Hadoop Spark Redshift DynamoDB Kinesis or other big data technologies. PREFERRED QUALIFICATIONS - Experience with supervised and unsupervised machine learning models. - Experience with collaborative filtering and recommender systems. - Experience running and evaluating AB Tests.\", 'Analysis Analyst Business Analyst Consulting Data Analysis Development Excel Manager Outlook PowerPoint Project SQL Supervision', '(SITE OR ON SITE OR ON-SITE ) AND(MONITOR OR MONITORING ) AND(PHARMA OR PHARMACEUTICAL COMPANIES ) AND(CRA OR CLINICAL RESEARCH ASSOCIATE )', 'Telecommuting not available Travel not required', '(See Job Description)', 'Looking for two-to-three Senior Java Developers with experience in eCommerce. Strong Java Spring Framework and Hibernate ORM. The ideal candidate will have experience building their own e-commerce product or working with an existing ecommerce site. Looking for typical eCommerce experience such as PIM PCI shopping carts payment gateways catalogs etc. Any experience with BroadLeaf ElasticPath or KonaKart is a plus. My client will train on the eCommerce tools', 'Electrical Engineering degree with experience in scientific programming especially C/C++ GPS or other navigation systems; geolocation observable processing.', 'Active Secret clearance required knowledge of product development and procedures including knowledge of general accounting. Ability to manage a diverse range of technical operations', '(See Job Description)', '.Net TFS Web services WCF JQuery AJAX JavaScript VB VB Script XML/XSL CSS architectural design patterns', 'Angular.JS React Node.js JavaScript', 'Development IT Network Project Sales', 'HTML JavaScript CSS AJAX', '.Net Algorithms Developer JavaScript Linux OOD OOP Programming Systems Windows', 'Analyst Business Analyst Business Requirements Consulting Development Lifecycle Management MS Office Project Testing', '10+ years of technical management experience Track record of building and delivering mission critical 24x7 production software systems', 'Angular JS Java/J2EE Spring  Hibernate', '(See Job Description)', 'Algorithm Engineer  Computer vision Open CV algorithm R&D experiences Android programming will be a plus.', 'Node.js JavaScript', 'SAP APO MS Excel BW reporting Pharma or Biotech', 'Technical Infrastructure Project Manager', 'SQL Reporting Services Suite', 'Project coordinatorprocurementbudget', 'DEVOPS ENGINEER SYSTEM ENGINEER BUILD RELEASE ENGINEER PYTHON SHELL PERL BASH LINUX UNIX RHEL CENTOS PERFORCE JENKINS MAVEN CONTINUOUS INTEGRATION', 'Oracle R12 E-Business General Ledger Asset Management Projects AME Workflow etc.', 'Telecommuting not available Travel not required', 'Scientific Software Business Analyst Drug Development biotech pharma data extraction visualization SQL R Spotfire user training', 'Application C++ Development Engineer Engineering J2EE Java Linux Network Programming Python Shell Script Software System', 'Telecommuting not available Travel not required', '(See Job Description)', \"Global FBA is looking for a passionate talented product manager to develop pricing recommendations for the global business. The ideal candidate has outstanding business acumen and judgment intense curiosity excellent analytical abilities strong technical skills superior written and verbal communication skills and the ability to influence cross-functional teams. He/she will have a strong bias toward data driven decision making. He/she will be a self-starter comfortable with ambiguity and juggling multiple projects able to think big and be creative (while paying careful attention to detail) and will enjoy working in a fast-paced dynamic environment. He/she will work closely with Marketing Operations and Finance teams around the world. The scope for this role includes the following: Identify develop manage and execute analyses to uncover areas of opportunity and present written business recommendations that will help shape the future of FBA. Drive development of quantitative models necessary for the evaluation and implementation of new pricing strategies. Collaborate with product managers to develop pricing recommendations for new features or services. Manage fee development and implementation including long term project planning and development resource allocation. Report key insights and trends using statistical rigor to simplify and inform the larger team of noteworthy story lines. Collaborate with finance and product management as a leader of quantitative analysis. Analyze and solve business problems at their root stepping back to understand the broader context. Develop solutions that utilize the highest standards of analytical rigor and data integrity. Recognize and adopt best practices in reporting and analysis: data integrity test design analysis validation and documentation. Write high quality SQL code to retrieve and analyze data. Learn and understand a broad range of Amazon's data resources and know how when and which to use. Manage and execute entire projects or components of large projects from start to finish including project management data gathering and manipulation synthesis and modeling problem solving and communication of insights and recommendations. Build scalable database solutions when required. Participate in periodic reviews with Amazon Executive Leadership team. FBA leverages Amazon's global fulfillment and customer service network for third party sellers who want to grow their business on and off Amazon.com. FBA enables customers to take advantage of Free Super Saver Shipping and Amazon Prime on third party items while sellers can focus on selling rather than shipping. The Sr. Product Manager will be responsible for driving analysis in an effort to improve our understanding of Seller's costs globally. The role is global in scope and includes strategy analysis and execution for FBA in North America Europe and Asia.\", 'Developer Hardware Java Linux Python Software Systems', 'C# SQL Stored Procedures .NET TCP/IP Multithreadin', 'B2C digital product management', 'Algorithms C++ Developer Development JavaScript Libraries Linux Network Performance Perl Programming Protocols Python Software System Systems TCP/IP Unix', 'business development sales staffing', 'Recruiter', '(TECHNICAL WRITER OR TECH WRITING OR TECH WRITER ) AND(STANDARD OPERATING PROCEDURES OR SOP OR WORK INSTRUCTIONS OR PROCESS FLOWS ) AND(VISIO )', 'Analyst Applications Computer Database Development Excel Java Management Programming Project Project Management Quality Quality Assurance Scripts Software SQL Supervision Test Testing VB Web', '(See Job Description)', '(AUTOMATED TESTING over 3 year(s) ) AND (JAVA DEVELOPER over 2 year(s) )', 'Telecommuting not available Travel not required', 'DevOps Engineer Chef Jenkins', 'Network Engineering IP Video Delivery Content Delivery Networks Linux System Admin', '(See Job Description)', 'SaaS solution Coupa', 'CISSP CISM CISA', 'Java and C/C++', 'Consulting Lifecycle Manager Management Project Project Management Sales SalesForce Scheduling Telecommunications', 'Software Retail Buying Demand Planning system Analysis Design Supply Chain applications development WebSphere WebLogic Oracle DB2 SQL Server UNIX/AIX Windows and Mainframe', 'Developer Development HTTP Java JavaScript Lifecycle Management Programming Project Python Release Risk Management Scheduling SQL Testing', 'Telecommuting not available Travel not required', '(ROUTERS ) AND (FIREWALLS OR FIREWALL ) AND(MANAGER ) AND (CISCO )', 'Access Application Business Requirements CASE Consulting Development IT Manager Program Manager Project Telecom', 'Mortgage/Equiting Lending Lean Six Sigma Green Belt/Black Belt', 'TAD PGS INC. specializes in delivering secure reliable and rapidly implemented workforce solutions to the U.S. Federal marketplace including U.S. Government agencies and their prime contractors. Wi', 'Analysis Architecture Business Requirements Citrix CSS Development Exchange HTML HTTP IIS Java Linux Management Oracle SQL VMware WebSphere Windows']\n"
          ]
        }
      ],
      "source": [
        "# Load job description file\n",
        "df = pd.read_csv('/dice_com_techjob_post.csv')\n",
        "im_df = pd.DataFrame(df, columns = ['company', 'employment', 'jobdescription', 'jobtitle', 'skills'])\n",
        "data_dict = im_df.to_dict()\n",
        "jd_content = [x for x in data_dict['jobdescription'].values()]\n",
        "skills = [x for x in data_dict['skills'].values()]\n",
        "skills_cleaned = []\n",
        "for skill in skills:\n",
        "  skill = str(skill)\n",
        "  skill = skill.replace(',', '')\n",
        "  skills_cleaned.append(skill)\n",
        "jd_content_sample = jd_content[:10000]\n"
      ]
    },
    {
      "cell_type": "code",
      "execution_count": 6,
      "metadata": {
        "id": "E50i1sFseU6e"
      },
      "outputs": [],
      "source": [
        "from nltk.corpus import stopwords"
      ]
    },
    {
      "cell_type": "code",
      "execution_count": null,
      "metadata": {
        "id": "bW_dT8bxddYx"
      },
      "outputs": [],
      "source": [
        "#initialize stop words and stemmer for text processing\n",
        "nltk.download('stopwords')\n",
        "stopWords = set(stopwords.words('english'))\n",
        "stemmer = PorterStemmer()"
      ]
    },
    {
      "cell_type": "code",
      "execution_count": null,
      "metadata": {
        "id": "Epa-sCVWpaoi"
      },
      "outputs": [],
      "source": [
        "nltk.download('punkt')"
      ]
    },
    {
      "cell_type": "code",
      "execution_count": 56,
      "metadata": {
        "id": "Y-AWoeGMfHkj"
      },
      "outputs": [],
      "source": [
        "'''Method to tokenize and stemmized the text'''\n",
        "def tokenize_and_stemmized(text):\n",
        "  tokens = []\n",
        "\n",
        "  #Add all tokenized word into list of token\n",
        "  for sent in nltk.sent_tokenize(text):\n",
        "    for word in nltk.word_tokenize(sent):\n",
        "      tokens.append(word)\n",
        "  filtered_tokens = []\n",
        "\n",
        "  # Filter out token that only contain letter, + sign,underscore, and number\n",
        "  for token in tokens:\n",
        "    if re.search(\"^[A-Za-z0-9+_-]*$\", token):\n",
        "      filtered_tokens.append(token)\n",
        "  stems = [stemmer.stem(t) for t in filtered_tokens]\n",
        "  return ' '.join(stems)\n",
        "\n",
        "def filter_token(tokens):\n",
        "   filtered_tokens = []\n",
        "   for token in tokens:\n",
        "    if re.search(\"^[A-Za-z0-9+_-]*$\", token):\n",
        "      filtered_tokens.append(token)\n",
        "   return filtered_tokens\n",
        "\n"
      ]
    },
    {
      "cell_type": "code",
      "execution_count": 12,
      "metadata": {
        "id": "HErpR1friNb-"
      },
      "outputs": [],
      "source": [
        "from sklearn.feature_extraction.text import TfidfVectorizer"
      ]
    },
    {
      "cell_type": "code",
      "execution_count": null,
      "metadata": {
        "id": "TUf4xeLX00mR"
      },
      "outputs": [],
      "source": [
        "# prepare a data frame of only skills and job title to train\n",
        "col = ['jobtitle', 'skills']\n",
        "data_eval = im_df[col]\n",
        "\n",
        "# Drop rows with missing data\n",
        "data_eval.dropna(subset=['skills'], inplace=True)\n",
        "\n",
        "data_forfit = data_eval['skills']\n",
        "print(data_eval['skills'].head)\n"
      ]
    },
    {
      "cell_type": "code",
      "execution_count": null,
      "metadata": {
        "id": "NzAViE_Nn0yQ"
      },
      "outputs": [],
      "source": [
        "# define vectorizer parameters\n",
        "tfidf_vectorizer = TfidfVectorizer(sublinear_tf = True, max_df=0.9, max_features=200000,\n",
        "                                 min_df=0.1, use_idf=True, stop_words= 'english',\n",
        "                                 tokenizer = tokenize_and_stemmized, ngram_range=(1,2))\n",
        "\n",
        "tfidf_matrix = tfidf_vectorizer.fit_transform(data_forfit)\n",
        "print(tfidf_matrix.shape)"
      ]
    },
    {
      "cell_type": "code",
      "execution_count": 65,
      "metadata": {
        "id": "DNpSvYkbKRL0"
      },
      "outputs": [],
      "source": [
        "from sklearn.cluster import KMeans"
      ]
    },
    {
      "cell_type": "code",
      "execution_count": 74,
      "metadata": {
        "id": "Ofuy6J0hJycu"
      },
      "outputs": [],
      "source": [
        "# generate k-cluster\n",
        "\n",
        "num_clusters = 20\n",
        "\n",
        "km = KMeans(n_clusters=num_clusters)\n",
        "\n",
        "km.fit(tfidf_matrix)\n",
        "\n",
        "clusters = km.predict(tfidf_matrix)"
      ]
    },
    {
      "cell_type": "code",
      "execution_count": 100,
      "metadata": {
        "colab": {
          "base_uri": "https://localhost:8080/"
        },
        "id": "7byN39vFKaHF",
        "outputId": "6a6f1832-0031-4922-a8b6-ca8d373085bb"
      },
      "outputs": [
        {
          "name": "stdout",
          "output_type": "stream",
          "text": [
            "Cluster 0: t e c c t e c h e r h   r r c t   h t o c t u n l u r u t   t\n",
            "Cluster 1: s t e s t r m c u   s m   t e n o t   d s e e s r   l   t\n",
            "Cluster 2: g n n e n g e n g   e n   t s r o d e s c d e l m u p\n",
            "Cluster 3: d   n d d n   n o r e c t l o d s m   o p b u r o r  \n",
            "Cluster 4: l y n l y s y s   n t l n s t s   t   u s e u r b c o d\n",
            "Cluster 5: r k w o n e t w k e t w k   e r o n o r t c s   n u m   s\n",
            "Cluster 6: q l s q q s l l     s e r t o c e r m d p v b n c  \n",
            "Cluster 7: e o r t n c s l p d u m f t   r   h n   d     c   s\n",
            "Cluster 8: j j v v     j v e r s n o l c p g t   s s p d b e  \n",
            "Cluster 9: w o w d o e o d r n d n s   w t c v e r m r e r   l p\n",
            "Cluster 10: j e m n p r r o n g   m c t g m e c r c p j g   n o t   e t\n",
            "Cluster 11: b   p t r p e s s c   j c r e d e j   d s b r e   o p t d s e\n",
            "Cluster 12: w e e r v b   b s e r v r   w w s e   s c j c     j o t l\n",
            "Cluster 13: x   x l n n u l   l e r t s p o c u n   u h d m   s\n",
            "Cluster 14: p s p s p   o c h t r m e   p   s n l b d   c u f\n",
            "Cluster 15: e x e p e x   e e r r p r   t o n s c d l m f h u\n",
            "Cluster 16: c l o m t e r f u s b n l     c c o r c d u l c l m e\n",
            "Cluster 17: j j v p t v s r p   j s c c r s v r c t p l t   h t e c s s s\n",
            "Cluster 18: e l t r o s p   p e l c e v m n   d g o p d e d v e l o\n",
            "Cluster 19: e v o p d e e l o v e e l v d o p   d l p   r s t c n m\n"
          ]
        },
        {
          "name": "stderr",
          "output_type": "stream",
          "text": [
            "/usr/local/lib/python3.7/dist-packages/ipykernel_launcher.py:2: SettingWithCopyWarning: \n",
            "A value is trying to be set on a copy of a slice from a DataFrame.\n",
            "Try using .loc[row_indexer,col_indexer] = value instead\n",
            "\n",
            "See the caveats in the documentation: https://pandas.pydata.org/pandas-docs/stable/user_guide/indexing.html#returning-a-view-versus-a-copy\n",
            "  \n",
            "/usr/local/lib/python3.7/dist-packages/sklearn/utils/deprecation.py:87: FutureWarning: Function get_feature_names is deprecated; get_feature_names is deprecated in 1.0 and will be removed in 1.2. Please use get_feature_names_out instead.\n",
            "  warnings.warn(msg, category=FutureWarning)\n"
          ]
        }
      ],
      "source": [
        "#add cluster name into the df\n",
        "data_eval[\"ClusterName\"] = clusters\n",
        "data_eval.head(20)\n",
        "# get top skills per cluster:\n",
        "order_centroids = km.cluster_centers_.argsort()[:, ::-1]\n",
        "\n",
        "terms = tfidf_vectorizer.get_feature_names()\n",
        "for i in range(num_clusters):\n",
        "    top_ten_words = [terms[ind] for ind in order_centroids[i, :num_clusters]]\n",
        "    print(\"Cluster {}: {}\".format(i, ' '.join(top_ten_words)))\n"
      ]
    },
    {
      "cell_type": "code",
      "execution_count": 94,
      "metadata": {
        "colab": {
          "base_uri": "https://localhost:8080/"
        },
        "id": "9tDX0ulLPUGo",
        "outputId": "9952cd63-8328-4ee4-d431-3b369747f46d"
      },
      "outputs": [
        {
          "name": "stdout",
          "output_type": "stream",
          "text": [
            "['AUTOMATION TEST ENGINEER', 'Sr. Systems Test Engineer (PERM)', 'Business Systems Analyst', 'Network Administrator - Cisco UCS, VMware, Citrix, Windows', 'VM Ware Consultant - VCP Certified', 'Support Engineer - Cloud Computing', 'Systems Administrator - data center operations w/windows & linux', 'Information Systems/Support Engineer- Direct Hire', 'Business Analyst', 'Adobe AME Architect', 'Mid-level Windows DevOps Engineer', 'Informatica developer', 'Systems Administrator - Windows, PowerShell, Azure', 'DATABASE CONSULTANT', 'Network Engineer', 'Data Power Admin', 'BigData Architect', 'Systems Administrator', 'Network Support / Server Support / Technical Support', 'Systems Lead']\n",
            "\n",
            "\n",
            "['Information Security Engineer', 'Network Engineer', 'Messaging Administrator', 'Domestic Outsourcing Business Development Executive', 'Domestic Outsourcing Business Development Executive', 'Oracle Business Systems Analyst', 'Linux Engineer', 'Capacity Planning Engineer - 11350', 'Director of IS, Infrastructure, Network, Best Practices, IT Policy and Procedures', 'Field Services Analyst III', 'Senior Network Engineer- BGP, IP Network Design and Architecture', 'Senior Platform Software Engineer', 'Senior Mechanical Engineer (REMOTE OK)', 'ACCOUNT EXECUTIVE - IT', 'MBA Intern - Enterprise Market Strategy', 'Network Analyst - Network Administration, Windows, SQL', 'Fulltime: Network Engineer - Quincy MA', 'Rack & Stack Lab Administrator', 'Field Operations Technician 2', 'eClinicalWorks System Administrator']\n",
            "\n",
            "\n",
            "['Business Solutions Architect', 'Product QA Engineer', 'Sr. EDI Business Analyst', 'Front end-UI developer/UI-Web designer', 'Technical Recruiter', 'Senior Drupal Developer', 'Senior MySQL DBA', 'Enterprise Domain Architect - Supply Chain', 'Pharmacy Tech (PD) - Walnut Creek Campus', 'MQ Middleware Support', 'Security Engineer', 'Senior Consultant w/ TOP SECRET CLEARANCE', 'Tech Ops Technician (1st shift) (THUR-MON)', 'iOS Software Engineer', 'AWS Cloud Engineer', 'Salesforce Architect / Developer', 'Team center Admin/Developer - REMOTE POSITION', 'Salesforce Solution Architect', 'Technical Writer', 'Data Architect with retail background']\n",
            "\n",
            "\n",
            "['Java Developer (mid level)- FT- GREAT culture, modern technologies, career growth', 'Application Support Engineer', 'Windows System Administrator', 'Java Architect - Denver, CO - Fulltime', 'IT Sales Manager', 'System Support Administrator', 'Business Intelligence Development Manager', 'Windows Administrator', 'IT Ops Support', 'Business Systems Analyst III', 'Data Center Virtualization Architect', 'Java Developer', 'Sr. Java Developer', 'COBOL Developer / Programmer', 'Position Type: IT-Contract', 'Systems Administrator (VMware / Red Hat Linux)', 'Windows Endpoint Security Solution Engineer/Architect (Finance industry)', 'Windows Desktop Engineer (Application Integration)', 'Technical Business Analyst (Microsoft Exp.)', 'Linux Administrator (Scripting Must)']\n",
            "\n",
            "\n",
            "['DevOps Engineer', 'Sales Engineer - Los Angles', 'Senior Devops Engineer (Contract)', 'Business Analyst - Mortgage/Equiting Lending, Lean Six Sigma Green Belt/Black Belt', 'PCIe Design with SpyGlass', 'Multiple Ruby on Rails, RoR Web Software Engineers to Lead level', 'Cognos Developer', 'Geotechnical Engineer', 'Telecom Business Analyst (System Engineer)', 'Lead UX Designer - UX design, JavaScript/HTML/CSS, Node.JS', 'Physicist Superconducting Electronics & Advanced Computing Technolo', 'Manufacturing Engineer', 'Hardware Engineer', 'Associate Citrix Engineer', 'Sr. Electrical Engineer - Pharmaceutical Design', 'Software Engineer in Test (SDET)', 'cognos developer', 'UX Designer / UI Developer', 'Design Quality Engineer', 'Mechanical Design Engineer']\n",
            "\n",
            "\n",
            "['SAP FICO Architect', 'OpenStack Engineer - 12185', 'Principal Application Analyst-Supply Chain Lawson', 'Planner/Scheduler', 'Sr. Information Risk Management Analyst', 'SWIFT Messaging Specialist', 'Technology Manager of Analytics', 'SAP Technical Lead (ERP, ECC, HANA) in Melville, NY or Davidson, NC', 'Business Analyst - PCI', 'Service Technicians - Printing', 'IT Security Analyst', 'Project Manager - Pm, PMP, SAP, Project Online, Ariba', 'SAP FICO with Revenue Recognition (12+ years exp)', 'Project Manager - CSP, Scrum Master, Certification, Coaching,.NET', 'Hybrid Mobile Developer - HTML5, CSS3, AngularJS', 'Telecommute Backend Software Engineer - (Python, Big Data)', 'Big data Engineer', 'Senior Back End Developer - Python, Big Data Processing', 'SAP Cash Management', 'Kinaxis - SCM']\n",
            "\n",
            "\n",
            "['Sr. Web Application Developer (Cloud Team) - Chicago', 'USB Validation Engineer', 'Developer - SQL, web services, .NET', 'Java Developer 12676', 'Java/Spring/Cloud based Web Services Applications Developer', 'Ruby on Rails Software Engineer- Web applications, JavaScript', 'Sr. DevOps Engineer - Linux, AWS, Puppet', 'Senior Web Developer - PHP, FullStack', 'Java Developer', 'Sr. Java Developer (Local to MA)', 'Full Stack Java Developer', 'Senior .NET Software Engineer (C#/ASP.NET MVC, Cloud, CMS)', 'Polymer JS Developer', 'Senior SDET Engineer', 'Sr. SW Engineer: C#, .NET, Web Services', 'Back End JAVA Developer', 'Kony - Mobile Development Architect', 'Cloud Architect', 'IT Consultant Level IV', 'Java Developer']\n",
            "\n",
            "\n",
            "['Front End Developer', 'Project Manager', 'Account Manager', 'Automated Test Engineer', 'Business Development Manager', 'PeopleSoft ELM Developer:', 'Manager - QA, Automation, Management, Team Development, SDLC, Agile,SOA', 'Java Developer, AngularJS, NodeJS', 'DevOps Staff Engineer/System Admin- OPNFV Open Lab -Contractor', 'Java Developer', 'Sr Web Developer - Test and Measurement', 'Dev Ops Engineer', 'Jr./Sr./Lead Java Developer', 'SAP Business Objects Developer - 1204', 'Dot Net Developers', 'Staffing Account Executive', 'Associate Application Developer', 'Sr. Software Engineer', 'fulltime position : looking for Front End developer', 'Java Developer']\n",
            "\n",
            "\n",
            "['9001 Data Security Administrator - Unix & IAM', 'Sr. Software Storage Engineer', 'Infrastructure Production Developer', 'DBA - Oracle, Unix, RAC ,11GR2,', 'Splunk Admin', 'Software Engineer, Hadoop', 'ENTERPRISE SYSTEMS ENGINEER', 'Operations Engineer - Linux, Azure, Chef/Puppet/Ansible/Salt/Ter', 'DevOps Engineer - AWS, Linux, Docker', 'Senior JavaScript Developer', 'Senior Software Engineer (C++, C# and ASP.NET, NetSuite )', 'Tech Lead - Clinical trials', 'DevOps Lead', 'Sr.Business Systems Analyst', 'Solution Architect V - Database Platform Architect', 'Storage & Linux Engineer', 'Citrix XenDesktop / Packaging Engineer (Remote option available)', 'Machine Learning Data Scientist - QPID - Boston, MA', 'Infrastructure Support Engineer-cloud', 'Systems Administrator']\n",
            "\n",
            "\n",
            "['Software Engineer Manager', 'Lead Java Engineer', 'Java Full Stack Engineer (Angular JS is must)', 'Software Development Engineer', 'Lead/Sr Data Scientist', 'Java Application Architect', 'Lead QA - Automation SME - Local to San Francisco CA only', 'SDET QA Automation Engineer - Local to Columbus Ohio only', 'QA Automation Engineer', 'Core Java developer with JBPM and Multithreading', 'Java Developer with Android', 'Senior Core Java(10 yrs plus)', 'Big Data Software Engineer - PHP/Java/AWS', 'Java Developer with Jenkins/junit', 'Java Lead / Java Developer with spring', 'AK-Javaawshadoop', 'Platform Engineer - AWS, DevOps, PHP', 'Data Engineer - PHP/Java/AWS/EMR', 'Javascript Developer (Angular JS)', 'Java developer']\n",
            "\n",
            "\n",
            "['Test Lead / Test Manager', 'Software Developer', 'Informatica Admin', 'Business Analyst', 'C#.NET Client/Server Developer', 'Business Analyst - digital analytics, Google, Adobe, Tableau, ForeSee, SQL', 'SharePoint Administrator', 'Developer - .NET, build, release, deployment, SQL', 'Developer - PHP LAMP MVC MSQL OOD', 'Systems Analyst - Healthcare Claims, ERISA, COBRA, HIPAA. SQL, SDLC', 'Developer - Oracle, Peoplesoft Financials and HR, MS SQL Server', 'Data Scientist', 'Lead Cloud Engineer', 'SAP Developer - 4.x, SQL, Data Modeling', 'Compliance Systems Analyst', 'Software Engineer - PHP, OOP, MySQL', 'Database Engineer/Architect', 'Senior Oracle HCM Business Analyst', 'Project Manager', 'Sr. Java Engineer']\n",
            "\n",
            "\n",
            "['IT Business Analyst', 'Sr. Business Data Analyst', 'Jr Business Analysts', 'Reporting Analyst', 'Business Analyst', 'Business Analyst - Business Analyst healthcare', 'Business Analyst - Business Analyst healthcare', 'Oracle Functional Consultant', 'Business Systems Analyst', 'Senior Financial Reporting Analyst', 'Jr level IT Business Analyst', 'Business Systems Analyst', 'Respiratory Therapist - Walnut Creek Campus (Per Diem)', 'Business Intelligence Analyst', 'Business Systems Analyst - Supply Chain', 'Qlikview Architect / Technical Expert', 'Associate Product Manager', 'Adobe Analytics / Ensighten Developer', 'Business Systems Analyst Consultant - Hartford, CT', 'Business Analyst - Speech Analytics']\n",
            "\n",
            "\n",
            "['IT Quality Consultant', 'Technical Infrastructure Project Manager', 'Project Coordinator', 'Business Systems Analyst', 'Account Coordinator II', 'Technician-Systems', 'Project Manager', 'Project Manager I', 'Application Programmer V Specialist', 'Technical Project Manager', 'IT Project Manager - Reservation Systems', 'OKTA IDAM Consultant in Chicago, IL', 'Big Data Applications Technical Product Owner - Minnetonka, MN', 'Senior Security Architect', 'Disaster Recovery Project Manager', 'Insurance Consulting Leader', 'Undergrad Intern - Colleague Insights and Analytics', 'Sr Infrastructure Project Manager Boston MA Moving Fast', 'Project Manager - Premier & Innovative Engineering Company!', 'Technical Project Manager - Agile, SQL']\n",
            "\n",
            "\n",
            "['Senior Product Manager', '4709317 Project Planner/Scheduler', 'Mobile Automation Tester , Rate :Open Negotiable, 1 year', 'Project Manager : Information Security and Risk Management', 'Software Development Engineer, Big Data', 'Clinical Site Monitor', 'Java Developer (Ecommerce)', 'Director of Product Development', 'Manager - GFS', 'Sr Service Delivery Systems Administrator (DevOps) - 16-01286', 'Senior Product Manager, Pricing - Fulfillment By Amazon', 'Senior Technical Writer', 'DHMSM Operational Medicine Interface Developer', 'San Storage Engineer', 'Mobile Device QA Tester II', 'Processor (Screen) - 3rd Shift', 'Exhaust Processor (Exhaust) 3rd Shift', 'Security - InfoSec Assessment', 'Sr. Systems Engineer - Storage (Contract-to-Hire)', 'Auditor Analyst']\n",
            "\n",
            "\n",
            "['Frontend/UI Developer', 'Senior. NET Developer (Temp-to-Perm)', 'Frontend/UI Developer', 'Web Developer', 'Sr. JavaScript Developer', 'Developer - WEB - HTML5, CSS3, JavaScript, AJAX, JQuery, ASP.NET', 'UI/UX Designer', 'Developer - AngularJS,Angular, Bootstrap, Node.js, Express, JavaScript,', 'Application Programmer V Specialist', 'Salesforce Technical Lead - Sales / Service / Marketing Cloud', 'Web Developer - JavaScript expert!', 'Full Stack Developer - JavaScript, C#, PHP, MySQL', 'Senior Software Engineer - Growing Company & Amazing Culture', '.Net Developer', 'Senior NetSuite Analyst - NetSuite, ERP, JavaScript', 'Ruby on Rails Developer - Rails expertise needed please!!', 'Senior Software Architect - Java, SaaS, Big Data', 'JavaScript Developer - React.JS', '.Net C# Developer', 'Lead Android Developer - Java, Android SDK, Android']\n",
            "\n",
            "\n",
            "['1001 Selenium Automation testing', 'FireEeye HX - Security Engineer', 'Soarian Clinicals Consultant (Cerner)', 'Benefits Associate I- (Junior Role)', 'Developer - AngularJS, Spring or Struts, RESTful', 'Human Resources Generalist - outlook, excel, customer service', 'Sr. Systems Engineer', 'System Security Engineer (Information Assurance, Anti-Tamper) in NJ', 'QA Test Automation Engineer', 'Marketing Analyst', 'Information Security Manager - IT Security, CISSP, Policies', 'Fraud Investigation Analyst', 'Mainframe systems engineer with TN3270 emulator Integration_3+ months_Franklin, MA (Onsite Only)', 'Automation Systems Engineer', 'Senior Information Security Specialist - M', 'Application Support Specialist - Travel', 'Backfill Opportunity || IVR Automation tester|| Fulltime', 'Java Developer (No Subcontractors)', 'Senior Business Analyst', 'Client Services Account Coordinator']\n",
            "\n",
            "\n",
            "['C++ Software Engineer', 'Core Java Developer with distributed computing', 'Geolocation Engineer', 'Software Engineer (Algorithm)', 'SQL Web Application Developer', 'Data Analyst', 'MySQL Database Architect/Administrator', 'Relationship Manager / Account Manager, mortgage planning expertise', 'Customer Service Representative Senior', 'Full stack Software Engineer', 'Java Developer (Content Management)', 'IT - Project Manager IV', 'PMO Support Analyst', 'Elixir Engineer - Elixir, Python, Ruby On Rails', 'Sr. Project Manager', 'UX Designer - Web/Mobile UX for growing International Firm!', 'Project Manager', 'UX Designer for leading EdTech firm in Boston', 'VistA Test Engineer', 'Architect']\n",
            "\n",
            "\n",
            "['Lead Mobile Product Manager- 12255', 'Manager of IS Network Engineers', 'Audio / Visual Support Tech', 'Developer - iOS, Android, REST API, SQL, Xcode, AJAX', 'Information Systems Security Design Architect CISSP Required', 'Project Manager', 'Hedge Fund Developer with C# & ASP.Net', 'Embedded Software Engineer', 'Lead Mobile Application Developer', 'Lead Android Developer for an exciting start-up!', 'Solution Architect', 'Android Developer', 'Android Developer', 'Technical service specialist II', 'Sr. Agile Coach', 'Voice Engineer (ACME / CISCO)', 'Sr. Physical Design Engineer', 'GIS Technical Consultant needed in Waltham, MA', '.Net Developer (Right to hire/Client cannot Transfer/sponsor Visa)', 'Software Dev Manager, Mobile']\n",
            "\n",
            "\n",
            "['Project Coordinator II', 'Senior Full Stack Developer', 'Scientific Software Specialist and BA', 'Software Infrastructure C++ Developer', 'Sr. Quality Assurance Test Analyst', 'Technical Lead Supply Chain - 12241', 'C++ Software Developer for Multi-Asset Risk System', '(US)-Program Manager Senior', 'Information Technology Architect', 'Angular JS / SOA / Web Developer w/ Middleware', 'Sr. Application Programmer', 'Full Stack Developer', 'Java Developer', 'BA/ QA Tester', 'Treasury Associate', '.NET Developer III MS Dynamics', '.Net Architect / Manager', 'Application Architect', 'Project Manager', 'Testing Technical Specialist']\n",
            "\n",
            "\n",
            "['Procurement System Manager', 'Director, Information Security', 'IT Project Manager (Mobile Apps)', 'Senior Java Developer - Lead', 'Oracle eBusiness Programmer (Oracle R12)', 'Java Developer', 'Sr Network Engineer', 'IT Buyer', 'Infrastructure Project Manager', 'Python / Django Developer', 'Sr. SQL Server Datawarehouse Architect', 'Product Manager', 'Technology Audit VP', 'OMS (Sterling OMS) Architect/Consultant', 'Senior Manager, SalesForce CRM', 'Technical Architect OAAM', 'Back-End Java Developer ATG', 'IBM Rational Tool', 'System Engineer', 'Sr. Digital Project Specialist']\n",
            "\n",
            "\n"
          ]
        }
      ],
      "source": [
        "# return the job title in each cluster:\n",
        "dict_job = {}\n",
        "\n",
        "for ind in data_eval.index:\n",
        "  i = data_eval['ClusterName'][ind]\n",
        "  if i not in dict_job.keys():\n",
        "    dict_job[i] = []\n",
        "    dict_job[i].append(data_eval['jobtitle'][ind])\n",
        "  else:\n",
        "    dict_job[i].append(data_eval['jobtitle'][ind])\n",
        "\n",
        "for key in dict_job.keys():\n",
        "  print(dict_job[key][:20])\n",
        "  print('\\n')\n",
        "\n"
      ]
    },
    {
      "cell_type": "code",
      "execution_count": null,
      "metadata": {
        "id": "szaXjT350Mov"
      },
      "outputs": [],
      "source": [
        "!pip install gensim"
      ]
    },
    {
      "cell_type": "code",
      "execution_count": 96,
      "metadata": {
        "id": "DC4AP9wqsl1U"
      },
      "outputs": [],
      "source": [
        "# Switch to LDA approach\n",
        "from gensim import corpora, models, similarities\n"
      ]
    },
    {
      "cell_type": "code",
      "execution_count": null,
      "metadata": {
        "id": "PyqKHWTg-oWB"
      },
      "outputs": [],
      "source": [
        "!pip install rake_nltk"
      ]
    },
    {
      "cell_type": "code",
      "execution_count": 98,
      "metadata": {
        "id": "I22PBfmu-jg0"
      },
      "outputs": [],
      "source": [
        "from rake_nltk import Rake"
      ]
    },
    {
      "cell_type": "code",
      "execution_count": 99,
      "metadata": {
        "id": "5JwX5fXg-ui4"
      },
      "outputs": [],
      "source": [
        "# Get keyword only from jd_content using Rake\n",
        "rake = Rake()\n",
        "def get_kw_rake(jd_content):\n",
        "  for jd in jd_content:\n",
        "    rake.extract_keywords_from_text(jd)\n",
        "  keywords = rake.get_ranked_phrases()\n",
        "  return keywords\n"
      ]
    },
    {
      "cell_type": "code",
      "execution_count": null,
      "metadata": {
        "id": "UIv4UCg3JOTT"
      },
      "outputs": [],
      "source": [
        "!pip install keybert"
      ]
    },
    {
      "cell_type": "code",
      "execution_count": null,
      "metadata": {
        "id": "bGM1RNgQKJmF"
      },
      "outputs": [],
      "source": [
        "from keybert import KeyBERT"
      ]
    },
    {
      "cell_type": "code",
      "execution_count": null,
      "metadata": {
        "id": "b8-1_y3UJGlW"
      },
      "outputs": [],
      "source": [
        "# Get keyword only from jd_content using keyBert\n",
        "bert = KeyBERT()\n",
        "def get_kw_bert(jd_content):\n",
        "    for jd in jd_content:\n",
        "      keywords = bert.extract_keywords(jd, keyphrase_ngram_range=(3, 5), stop_words=\"english\", top_n=20)\n",
        "    results = []\n",
        "    for scored_keywords in keywords:\n",
        "        for keyword in scored_keywords:\n",
        "              results.append(keyword)\n",
        "    return results "
      ]
    },
    {
      "cell_type": "code",
      "execution_count": null,
      "metadata": {
        "id": "RXK5JtciWRe1"
      },
      "outputs": [],
      "source": [
        "!pip install git+https://github.com/LIAAD/yake"
      ]
    },
    {
      "cell_type": "code",
      "execution_count": null,
      "metadata": {
        "id": "a9OzH3uwWg9J"
      },
      "outputs": [],
      "source": [
        "import yake"
      ]
    },
    {
      "cell_type": "code",
      "execution_count": null,
      "metadata": {
        "id": "qar-RId4WLUQ"
      },
      "outputs": [],
      "source": [
        "# Get keyword only from jd_content using YAKE\n",
        "def get_kw_yake(jd_content):\n",
        "    for jd in jd_content:\n",
        "      keywords = yake.KeywordExtractor(lan=\"en\", n=3, windowsSize=3, top=20).extract_keywords(jd)\n",
        "    results = []\n",
        "    for scored_keywords in keywords:\n",
        "        for keyword in scored_keywords:\n",
        "            if isinstance(keyword, str):\n",
        "                results.append(keyword) \n",
        "    return results "
      ]
    },
    {
      "cell_type": "code",
      "execution_count": null,
      "metadata": {
        "id": "Vm0YCC1T0V29"
      },
      "outputs": [],
      "source": [
        "#keywords = get_kw_rake(jd_content[:1000])\n",
        "# remove stop words from list of tokenized and stemmed token\n",
        "#filtered_only = [[word for word in tokenize_and_stemmized(keys)[1]] for keys in keywords]\n",
        "filtered_only = [[word for word in tokenize_and_stemmized(skills)[1]] for skills in skills_cleaned[:500]]\n",
        "\n",
        "cleaned_jd = [[word for word in text if word not in stopWords] for text in filtered_only]\n",
        "\n"
      ]
    },
    {
      "cell_type": "code",
      "execution_count": null,
      "metadata": {
        "id": "Nc4mDiD4045Z"
      },
      "outputs": [],
      "source": [
        "# Create a Gensim dictionary from the processced job description\n",
        "dictionary = corpora.Dictionary(cleaned_jd)\n",
        "\n",
        "# Remove the extreme vocab based on term frequency\n",
        "dictionary.filter_extremes(no_below=1,no_above=0.9)\n",
        "\n",
        "#convert dictionary to a bag of words corpus\n",
        "corpus = [dictionary.doc2bow(jd) for jd in cleaned_jd]"
      ]
    },
    {
      "cell_type": "code",
      "execution_count": null,
      "metadata": {
        "id": "5WHg2riX3hw5"
      },
      "outputs": [],
      "source": [
        "print(dictionary)"
      ]
    },
    {
      "cell_type": "code",
      "execution_count": null,
      "metadata": {
        "id": "n68yozf52aX5"
      },
      "outputs": [],
      "source": [
        "# Create LDA model with 20 different clusters\n",
        "lda = models.LdaModel(corpus, num_topics=20, \n",
        "                            id2word=dictionary, \n",
        "                            update_every=5, \n",
        "                            chunksize=10000, \n",
        "                            passes=100)\n",
        "lda.show_topics()"
      ]
    },
    {
      "cell_type": "code",
      "execution_count": null,
      "metadata": {
        "colab": {
          "base_uri": "https://localhost:8080/"
        },
        "id": "FULSgZWw2s7d",
        "outputId": "4911ac14-bec4-444a-e954-fca09c84bc89"
      },
      "outputs": [
        {
          "name": "stdout",
          "output_type": "stream",
          "text": [
            "['-', 'Software', 'data', 'C++', 'MS', 'Technical', 'Experience', 'customers', 'Support', 'software', 'Engineer', 'Windows', 'Pre-Sales', 'engineering', 'Amazon', 'EE', 'Product', 'Customer', 'Linux', 'experience']\n",
            "\n",
            "['Design', 'data', 'business', 'development', 'FBA', 'analysis', 'Spring', 'product', 'management', 'Hibernate', 'The', 'Amazon', 'recommendations', 'develop', 'including', 'global', 'System', 'project', 'pricing', 'projects']\n",
            "\n",
            "['delivering', 'including', 'PGS', 'specializes', 'workforce', 'secure', 'reliable', 'rapidly', 'solutions', 'Federal', 'prime', 'marketplace', 'implemented', 'contractors', 'agencies', 'Wi', 'TAD', 'Government', 'MongoDB', 'SCRUM']\n",
            "\n",
            "['Business', 'Analyst', 'Requirements', 'services', 'Supervision', 'Robotic', 'Office', 'MS', 'Data', 'J2EE', 'System', 'Application', 'IT', 'Marketing', 'NoSQL', 'wireless', 'CRM', 'Voip', 'Engineer', 'restful']\n",
            "\n",
            "['Ruby', 'Rails', 'JavaScript', 'web', 'On', 'applications', '-', 'Electronics', 'Engineer', 'services', 'Ember', 'React', 'AWS', 'Services', 'Web', 'Development', 'Product', 'Rest', 'ActiveRecord', 'TDD']\n",
            "\n",
            "['OR', 'AND', 'Office', 'MS', 'year', 'MVC', 'C', 'SalesForce', 'JAVA', 'Delivery', '365', 'WEB', 'Word', 'SERVICES', 'JUNIT', '4', 'TESTING', 'AWS', 'SDLC', 'Scheduling']\n",
            "\n",
            "['Full', 'Time', 'C++', 'Linux', 'development', 'Server', 'NOT', 'essential', 'Windows', 'app', 'embedded', 'Jenkins', 'RESTful', 'experience', 'JavaScript', '-', 'web', 'environment', 'Manager', 'management']\n",
            "\n",
            "['SQL', 'JavaScript', '-', 'Cloud', 'Data', 'C', 'Server', 'MySQL', 'PHP', 'Oracle', 'Sales', 'User', 'AML', 'Salesforce', 'Support', 'HR', 'Design', 'OOP', 'Healthcare', 'HTML']\n",
            "\n",
            "['Experience', 'experience', 'required', 'years', 'available', 'Telecommuting', 'Travel', 'equivalent', 'VMware', 'Information', 'work', 'preferred', 'Engineering', 'storage', 'skills', 'Skills', 'Expert', 'Computer', '5+', 'Video']\n",
            "\n",
            "['Project', 'Management', 'Development', 'Manager', 'Consulting', 'HTTP', 'Excel', 'Testing', 'Analysis', 'HTML', 'SAP', 'Analyst', 'Lifecycle', 'PowerPoint', 'Research', 'Sales', 'Agile', 'Recruiter', 'QA', 'CSS']\n",
            "\n"
          ]
        },
        {
          "name": "stderr",
          "output_type": "stream",
          "text": [
            "/usr/local/lib/python3.7/dist-packages/ipykernel_launcher.py:2: VisibleDeprecationWarning: Creating an ndarray from ragged nested sequences (which is a list-or-tuple of lists-or-tuples-or ndarrays with different lengths or shapes) is deprecated. If you meant to do this, you must specify 'dtype=object' when creating the ndarray.\n",
            "  \n"
          ]
        }
      ],
      "source": [
        "topics_matrix = lda.show_topics(formatted=False, num_words=20)\n",
        "topics_matrix = np.array(topics_matrix)\n",
        "\n",
        "topic_words = topics_matrix[:,1]\n",
        "for i in topic_words:\n",
        "    print([str(word[0]) for word in i])\n",
        "    print()"
      ]
    }
  ],
  "metadata": {
    "colab": {
      "authorship_tag": "ABX9TyO9T6utuFCXKxUY1KctFS32",
      "include_colab_link": true,
      "provenance": []
    },
    "kernelspec": {
      "display_name": "Python 3.9.1 64-bit ('3.9.1')",
      "language": "python",
      "name": "python3"
    },
    "language_info": {
      "name": "python",
      "version": "3.9.1"
    },
    "vscode": {
      "interpreter": {
        "hash": "f3988a7ffadf481798c71ca0893af6b07df2fdcf1ddebd12befc9d6c8efc13e0"
      }
    }
  },
  "nbformat": 4,
  "nbformat_minor": 0
}
